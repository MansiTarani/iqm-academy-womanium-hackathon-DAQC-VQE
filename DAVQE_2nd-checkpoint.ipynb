{
 "cells": [
  {
   "cell_type": "markdown",
   "id": "c590289c",
   "metadata": {},
   "source": [
    "# Digital-analog Variational Quantum          Eigensolver"
   ]
  },
  {
   "cell_type": "markdown",
   "id": "4d400bab",
   "metadata": {},
   "source": [
    "Task description: \n",
    "This task is to develop a new VQE ansatz based on the digital-analog quantum computing (DAQC) framework. The ansatz will combine analog evolution of the processor hamiltonian with single qubit gates placed at the right time intervals. The model has potential to be “more hardware efficient” than typical hardware efficient ansätze."
   ]
  },
  {
   "cell_type": "markdown",
   "id": "3961add1",
   "metadata": {},
   "source": [
    "Reason for using DAQC:\n",
    "1. Reduce number of gates\n",
    "2. Combines digital single qubit gates with analog multi-qubit blocks."
   ]
  },
  {
   "cell_type": "markdown",
   "id": "56b8a85f",
   "metadata": {},
   "source": [
    "Imortant points:\n",
    " VQE uses a parametrized circuit U with parameters θ\n",
    " For this an ansatz is chosen.\n"
   ]
  },
  {
   "cell_type": "markdown",
   "id": "fb6c4c77",
   "metadata": {},
   "source": [
    "# Part 1.2: This is the implementation of example of notebook provided of Hanstaz in star combination in start shape on noiseless platform"
   ]
  },
  {
   "cell_type": "code",
   "execution_count": 1,
   "id": "3bc76955",
   "metadata": {},
   "outputs": [
    {
     "name": "stdout",
     "output_type": "stream",
     "text": [
      "Requirement already satisfied: qutip in d:\\anaconda3\\lib\\site-packages (4.7.0)\n",
      "Requirement already satisfied: scipy>=1.0 in d:\\anaconda3\\lib\\site-packages (from qutip) (1.7.1)\n",
      "Requirement already satisfied: numpy>=1.16.6 in d:\\anaconda3\\lib\\site-packages (from qutip) (1.20.3)\n",
      "Requirement already satisfied: packaging in d:\\anaconda3\\lib\\site-packages (from qutip) (21.0)\n",
      "Requirement already satisfied: pyparsing>=2.0.2 in d:\\anaconda3\\lib\\site-packages (from packaging->qutip) (3.0.4)\n"
     ]
    }
   ],
   "source": [
    "!pip install qutip\n",
    "\n",
    "import numpy as np\n",
    "import pylab\n",
    "import qutip as qt\n",
    "\n",
    "from qiskit import Aer\n",
    "from qiskit.utils import QuantumInstance, algorithm_globals\n",
    "from qiskit.algorithms import VQE, NumPyMinimumEigensolver\n",
    "from qiskit.algorithms.optimizers import SPSA\n",
    "from qiskit.circuit.library import TwoLocal\n",
    "from qiskit.opflow import I, X, Z\n",
    "from qiskit.extensions import HamiltonianGate\n",
    "from qiskit import QuantumCircuit, QuantumRegister, Aer, execute\n",
    "from qiskit.providers.aer import QasmSimulator\n",
    "from qiskit.quantum_info import Operator\n",
    "from qiskit.visualization import plot_histogram\n",
    "from typing import List\n"
   ]
  },
  {
   "cell_type": "code",
   "execution_count": 2,
   "id": "81f84979",
   "metadata": {},
   "outputs": [],
   "source": [
    "def create_zz_hamiltonian(num_qubits: int, connectivity: List[List[int]],\n",
    "                              h_coeffs: List[float]) -> np.ndarray:\n",
    "    \"\"\"Creates a global Hamiltonian consisting of a sum of one (g * Z^i.Z^j) term per device connection.\n",
    "\n",
    "    Args:\n",
    "        num_qubits (int): number of qubits of the Hamiltonian\n",
    "        connectivity (List[List[int]]): connectivity of the device\n",
    "        h_coeffs (List[float]): list of coefficients of each ZZ term\n",
    "\n",
    "    Returns:\n",
    "        np.ndarray: tensored Hamiltonian\n",
    "    \"\"\"\n",
    "    \n",
    "    dim = 2 ** num_qubits\n",
    "    num_connections = len(connectivity)\n",
    "    zz_hamiltonian = np.zeros([dim, dim], dtype=np.complex128)\n",
    "\n",
    "    # create a matrix that is the sum of ZZ operators on all connected qubits,\n",
    "    # tensored with the identity\n",
    "    for c in range(num_connections):\n",
    "        ops_to_tensor = [qt.identity(2)] * num_qubits\n",
    "        ops_to_tensor[connectivity[c][0]] = qt.sigmaz()\n",
    "        ops_to_tensor[connectivity[c][1]] = qt.sigmaz()\n",
    "        zz_hamiltonian += h_coeffs[c] * np.array(qt.tensor(ops_to_tensor))\n",
    "\n",
    "    return zz_hamiltonian"
   ]
  },
  {
   "cell_type": "code",
   "execution_count": 3,
   "id": "c381aa6a",
   "metadata": {},
   "outputs": [],
   "source": [
    "num_qubits = 5\n",
    "hamiltonian = create_zz_hamiltonian(num_qubits, [[0,-1],[0,1],[0,2],[0,-2]], [1.,1.,1.,1.,1.]) \n",
    "analog_block = HamiltonianGate(data=hamiltonian, time=2) "
   ]
  },
  {
   "cell_type": "code",
   "execution_count": 4,
   "id": "94a53736",
   "metadata": {},
   "outputs": [
    {
     "data": {
      "text/html": [
       "<pre style=\"word-wrap: normal;white-space: pre;background: #fff0;line-height: 1.1;font-family: &quot;Courier New&quot;,Courier,monospace\">      ┌───┐┌───────────────┐\n",
       "q0_0: ┤ X ├┤0              ├\n",
       "      ├───┤│               │\n",
       "q0_1: ┤ H ├┤1              ├\n",
       "      └───┘│               │\n",
       "q0_2: ─────┤2 analog block ├\n",
       "           │               │\n",
       "q0_3: ─────┤3              ├\n",
       "           │               │\n",
       "q0_4: ─────┤4              ├\n",
       "           └───────────────┘</pre>"
      ],
      "text/plain": [
       "      ┌───┐┌───────────────┐\n",
       "q0_0: ┤ X ├┤0              ├\n",
       "      ├───┤│               │\n",
       "q0_1: ┤ H ├┤1              ├\n",
       "      └───┘│               │\n",
       "q0_2: ─────┤2 analog block ├\n",
       "           │               │\n",
       "q0_3: ─────┤3              ├\n",
       "           │               │\n",
       "q0_4: ─────┤4              ├\n",
       "           └───────────────┘"
      ]
     },
     "execution_count": 4,
     "metadata": {},
     "output_type": "execute_result"
    }
   ],
   "source": [
    "qr = QuantumRegister(num_qubits)\n",
    "circ = QuantumCircuit(qr)\n",
    "\n",
    "circ.x(0)\n",
    "circ.h(1)\n",
    "circ.unitary(analog_block, [qr[0], qr[1], qr[2], qr[3], qr[4]], label='analog block')\n",
    "#circ.measure_all()\n",
    "\n",
    "#As always, we can visualize our circuit using the `QuantumCircuit.draw()` method.\n",
    "circ.draw()"
   ]
  },
  {
   "cell_type": "code",
   "execution_count": 5,
   "id": "1b891f7c",
   "metadata": {},
   "outputs": [
    {
     "data": {
      "text/html": [
       "<pre style=\"word-wrap: normal;white-space: pre;background: #fff0;line-height: 1.1;font-family: &quot;Courier New&quot;,Courier,monospace\">        ┌───┐┌───────────────┐ ░ ┌─┐            \n",
       "  q0_0: ┤ X ├┤0              ├─░─┤M├────────────\n",
       "        ├───┤│               │ ░ └╥┘┌─┐         \n",
       "  q0_1: ┤ H ├┤1              ├─░──╫─┤M├─────────\n",
       "        └───┘│               │ ░  ║ └╥┘┌─┐      \n",
       "  q0_2: ─────┤2 analog block ├─░──╫──╫─┤M├──────\n",
       "             │               │ ░  ║  ║ └╥┘┌─┐   \n",
       "  q0_3: ─────┤3              ├─░──╫──╫──╫─┤M├───\n",
       "             │               │ ░  ║  ║  ║ └╥┘┌─┐\n",
       "  q0_4: ─────┤4              ├─░──╫──╫──╫──╫─┤M├\n",
       "             └───────────────┘ ░  ║  ║  ║  ║ └╥┘\n",
       "meas: 5/══════════════════════════╩══╩══╩══╩══╩═\n",
       "                                  0  1  2  3  4 </pre>"
      ],
      "text/plain": [
       "        ┌───┐┌───────────────┐ ░ ┌─┐            \n",
       "  q0_0: ┤ X ├┤0              ├─░─┤M├────────────\n",
       "        ├───┤│               │ ░ └╥┘┌─┐         \n",
       "  q0_1: ┤ H ├┤1              ├─░──╫─┤M├─────────\n",
       "        └───┘│               │ ░  ║ └╥┘┌─┐      \n",
       "  q0_2: ─────┤2 analog block ├─░──╫──╫─┤M├──────\n",
       "             │               │ ░  ║  ║ └╥┘┌─┐   \n",
       "  q0_3: ─────┤3              ├─░──╫──╫──╫─┤M├───\n",
       "             │               │ ░  ║  ║  ║ └╥┘┌─┐\n",
       "  q0_4: ─────┤4              ├─░──╫──╫──╫──╫─┤M├\n",
       "             └───────────────┘ ░  ║  ║  ║  ║ └╥┘\n",
       "meas: 5/══════════════════════════╩══╩══╩══╩══╩═\n",
       "                                  0  1  2  3  4 "
      ]
     },
     "execution_count": 5,
     "metadata": {},
     "output_type": "execute_result"
    }
   ],
   "source": [
    "def measure_zz_circuit(given_circuit):\n",
    "    zz_meas = given_circuit.copy()\n",
    "    zz_meas.measure_all()\n",
    "    return zz_meas\n",
    "\n",
    "zz_meas = measure_zz_circuit(circ)\n",
    "zz_meas.draw()"
   ]
  },
  {
   "cell_type": "code",
   "execution_count": 6,
   "id": "a5dd0fdd",
   "metadata": {},
   "outputs": [
    {
     "name": "stdout",
     "output_type": "stream",
     "text": [
      "{'00011': 507, '00001': 517}\n"
     ]
    },
    {
     "data": {
      "image/png": "[encoded data removed]",
      "text/plain": [
       "<Figure size 504x360 with 1 Axes>"
      ]
     },
     "execution_count": 6,
     "metadata": {},
     "output_type": "execute_result"
    }
   ],
   "source": [
    "simulator = Aer.get_backend('qasm_simulator') \n",
    "job = execute(zz_meas, simulator, shots=1024) \n",
    "\n",
    "result = job.result()\n",
    "counts = result.get_counts(circ)\n",
    "print(counts)\n",
    "plot_histogram(counts)"
   ]
  },
  {
   "cell_type": "raw",
   "id": "25b0f8cb",
   "metadata": {},
   "source": [
    "# Measuring Expectation Values"
   ]
  },
  {
   "cell_type": "code",
   "execution_count": 9,
   "id": "07b51a84",
   "metadata": {},
   "outputs": [],
   "source": [
    "def measure_zz(given_circuit, num_shots = 1024):\n",
    "\n",
    "    zz_meas = measure_zz_circuit(given_circuit)\n",
    "    \n",
    "    result = execute(zz_meas, backend = simulator, shots = num_shots).result()\n",
    "    counts = result.get_counts(zz_meas)\n",
    "\n",
    "    if '00001' not in counts:\n",
    "        counts['00001'] = 0\n",
    "    if '00011' not in counts:\n",
    "        counts['00011'] = 0\n",
    "    \n",
    "    total_counts = counts['00001'] + counts['00011'] \n",
    "    zz = -counts['00001'] + counts['00011'] \n",
    "    zz = zz / total_counts\n",
    "    \n",
    "    return zz"
   ]
  },
  {
   "cell_type": "code",
   "execution_count": 10,
   "id": "c00af7c1",
   "metadata": {},
   "outputs": [
    {
     "name": "stdout",
     "output_type": "stream",
     "text": [
      "<ZZ> = -0.0234375\n"
     ]
    }
   ],
   "source": [
    "zz = measure_zz(circ)\n",
    "print(\"<ZZ> =\", str(zz))"
   ]
  },
  {
   "cell_type": "code",
   "execution_count": 11,
   "id": "ec325ee9",
   "metadata": {},
   "outputs": [],
   "source": [
    "def measure_zi(given_circuit, num_shots = 10000):\n",
    "    \n",
    "    zz_meas = measure_zz_circuit(circ)\n",
    "    \n",
    "    result = execute(zz_meas, backend = simulator, shots = num_shots).result()\n",
    "    counts = result.get_counts(zz_meas)\n",
    "\n",
    "    if '00001' not in counts:\n",
    "        counts['00001'] = 0\n",
    "    if '00011' not in counts:\n",
    "        counts['00011'] = 0\n",
    "\n",
    "    total_counts = counts['00001'] + counts['00011']     \n",
    "    zi = counts['00001'] - counts['00011'] \n",
    "    zi = zi / total_counts\n",
    "    \n",
    "    return zi\n",
    "\n",
    "def measure_iz(given_circuit, num_shots = 10000):\n",
    "    \n",
    "    zz_meas = measure_zz_circuit(circ)\n",
    "    \n",
    "    result = execute(zz_meas, backend = simulator, shots = num_shots).result()\n",
    "    counts = result.get_counts(zz_meas)\n",
    "\n",
    "    if '00001' not in counts:\n",
    "        counts['00001'] = 0\n",
    "    if '00011' not in counts:\n",
    "        counts['00011'] = 0\n",
    "\n",
    "    total_counts = counts['00001'] + counts['00011'] \n",
    "    \n",
    "    iz = -counts['00001'] - counts['00011'] \n",
    "    iz = iz / total_counts\n",
    "    \n",
    "    return iz"
   ]
  },
  {
   "cell_type": "code",
   "execution_count": 12,
   "id": "9d02a817",
   "metadata": {},
   "outputs": [
    {
     "name": "stdout",
     "output_type": "stream",
     "text": [
      "<ZI> = 0.0102\n",
      "<IZ> = -1.0\n"
     ]
    }
   ],
   "source": [
    "zi = measure_zi(circ)\n",
    "print(\"<ZI> =\", str(zi))\n",
    "\n",
    "iz = measure_iz(circ)\n",
    "print(\"<IZ> =\", str(iz))"
   ]
  },
  {
   "cell_type": "code",
   "execution_count": 13,
   "id": "ea1b39ec",
   "metadata": {},
   "outputs": [],
   "source": [
    "def measure_xx_circuit(given_circuit):\n",
    "    xx_meas = given_circuit.copy()\n",
    "    \n",
    "    ### WRITE YOUR CODE BETWEEN THESE LINES - START\n",
    "    \n",
    "    xx_meas.h(0)\n",
    "    xx_meas.h(1)\n",
    "    xx_meas.measure_all()\n",
    "    \n",
    "    ### WRITE YOUR CODE BETWEEN THESE LINES - END\n",
    "\n",
    "    return xx_meas"
   ]
  },
  {
   "cell_type": "code",
   "execution_count": 14,
   "id": "65d58570",
   "metadata": {},
   "outputs": [],
   "source": [
    "xx_meas = measure_xx_circuit(circ)"
   ]
  },
  {
   "cell_type": "code",
   "execution_count": 15,
   "id": "206fa4ca",
   "metadata": {},
   "outputs": [
    {
     "name": "stdout",
     "output_type": "stream",
     "text": [
      "<XX> = 0.67578125\n"
     ]
    }
   ],
   "source": [
    "def measure_xx(given_circuit, num_shots = 1024):\n",
    "    \n",
    "    xx_meas = measure_xx_circuit(given_circuit)\n",
    "    \n",
    "    result = execute(xx_meas, backend = simulator, shots = num_shots).result()\n",
    "    counts = result.get_counts(xx_meas)\n",
    "\n",
    "    if '00001' not in counts:\n",
    "        counts['00001'] = 0\n",
    "    if '00011' not in counts:\n",
    "        counts['00011'] = 0\n",
    "\n",
    "    total_counts = counts['00001'] + counts['00011'] \n",
    "    xx = counts['00011'] - counts['00001'] \n",
    "    xx = xx / total_counts\n",
    "    \n",
    "    return xx\n",
    "\n",
    "xx = measure_xx(circ)\n",
    "print(\"<XX> =\", str(xx))"
   ]
  },
  {
   "cell_type": "code",
   "execution_count": 16,
   "id": "78e691c8",
   "metadata": {},
   "outputs": [],
   "source": [
    "def get_energy(given_circuit, num_shots = 1024):\n",
    "    \n",
    "    zz = measure_zz(given_circuit, num_shots = num_shots)\n",
    "    iz = measure_iz(given_circuit, num_shots = num_shots)\n",
    "    zi = measure_zi(given_circuit, num_shots = num_shots)\n",
    "    xx = measure_xx(given_circuit, num_shots = num_shots)\n",
    "    \n",
    "    energy = (-1.0523732)*1 + (0.39793742)*iz + (-0.3979374)*zi + (-0.0112801)*zz + (0.18093119)*xx\n",
    "    \n",
    "    return energy"
   ]
  },
  {
   "cell_type": "code",
   "execution_count": 17,
   "id": "30fc541b",
   "metadata": {},
   "outputs": [
    {
     "name": "stdout",
     "output_type": "stream",
     "text": [
      "The energy of the trial state is -1.3120789800179948\n"
     ]
    }
   ],
   "source": [
    "energy = get_energy(circ)\n",
    "print(\"The energy of the trial state is\", str(energy))"
   ]
  },
  {
   "cell_type": "raw",
   "id": "1fb0bf22",
   "metadata": {},
   "source": [
    "# The difference in energy of star shape and linear combination is because here is more repulsive repulve force"
   ]
  },
  {
   "cell_type": "code",
   "execution_count": 18,
   "id": "85c5bb49",
   "metadata": {},
   "outputs": [
    {
     "name": "stdout",
     "output_type": "stream",
     "text": [
      "Eigenvector [0.70710682 0.         0.         0.70710674] has energy -0.8827221099999987\n",
      "Eigenvector [ 0.70710674  0.          0.         -0.70710682] has energy -1.2445844900000007\n",
      "Eigenvector [-1.96919604e-16 -9.93760401e-01  1.11535937e-01  8.21634647e-16] has energy -1.857274957569039\n",
      "Eigenvector [6.68825619e-18 1.11535937e-01 9.93760401e-01 3.57318109e-17] has energy -0.22491124243096008\n",
      "\n",
      "Minimum energy is -1.857274957569039\n"
     ]
    }
   ],
   "source": [
    "I = np.array([\n",
    "[1, 0],\n",
    "[0, 1]\n",
    "])\n",
    "\n",
    "X = np.array([\n",
    "[0, 1],\n",
    "[1, 0]\n",
    "])\n",
    "\n",
    "Z = np.array([\n",
    "[1, 0],\n",
    "[0, -1]\n",
    "])\n",
    "\n",
    "h2_hamiltonian = (-1.0523732) * np.kron(I, I) + \\\n",
    "                 (0.39793742) * np.kron(I, Z) + \\\n",
    "                 (-0.3979374) * np.kron(Z, I) + \\\n",
    "                 (-0.0112801) * np.kron(Z, Z) + \\\n",
    "                 (0.18093119) * np.kron(X, X)\n",
    "\n",
    "from numpy import linalg as LA\n",
    "eigenvalues, eigenvectors = LA.eig(h2_hamiltonian)\n",
    "for ii, eigenvalue in enumerate(eigenvalues):\n",
    "    print(f\"Eigenvector {eigenvectors[:,ii]} has energy {eigenvalue}\")\n",
    "\n",
    "exact_eigenvector = eigenvectors[:,np.argmin(eigenvalues)]\n",
    "exact_eigenvalue = np.min(eigenvalues)\n",
    "\n",
    "print()\n",
    "print(\"Minimum energy is\", exact_eigenvalue)"
   ]
  }
 ],
 "metadata": {
  "kernelspec": {
   "display_name": "Python 3 (ipykernel)",
   "language": "python",
   "name": "python3"
  },
  "language_info": {
   "codemirror_mode": {
    "name": "ipython",
    "version": 3
   },
   "file_extension": ".py",
   "mimetype": "text/x-python",
   "name": "python",
   "nbconvert_exporter": "python",
   "pygments_lexer": "ipython3",
   "version": "3.9.7"
  }
 },
 "nbformat": 4,
 "nbformat_minor": 5
}
